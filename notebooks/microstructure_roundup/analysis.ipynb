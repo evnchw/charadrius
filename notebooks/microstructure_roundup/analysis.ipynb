{
 "cells": [
  {
   "cell_type": "markdown",
   "metadata": {},
   "source": [
    "# Microstructure roundup\n",
    "\n",
    "This is a rerunnable notebook that takes in a date range, reads in the core Bitcoin data, and computes various analytics ranging from overall market movements to microstructural changes."
   ]
  },
  {
   "cell_type": "markdown",
   "metadata": {},
   "source": []
  }
 ],
 "metadata": {
  "language_info": {
   "name": "python"
  }
 },
 "nbformat": 4,
 "nbformat_minor": 2
}
