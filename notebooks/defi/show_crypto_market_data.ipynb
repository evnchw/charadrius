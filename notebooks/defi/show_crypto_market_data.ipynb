{
 "cells": [
  {
   "cell_type": "markdown",
   "id": "d561a6c2-fd53-475b-995d-76e4a8cab5fb",
   "metadata": {},
   "source": [
    "## Show crypto market data"
   ]
  },
  {
   "cell_type": "code",
   "execution_count": null,
   "id": "02d9d502-1481-4c92-a4cf-e4ae25561f91",
   "metadata": {},
   "outputs": [],
   "source": [
    "from tqdm import tqdm\n",
    "from loguru import logger\n",
    "import matplotlib.pyplot as plt\n",
    "import pandas as pd\n",
    "import numpy as np\n",
    "import glob\n",
    "import re\n",
    "FIGSIZE = (12,5)\n",
    "custom_colors = [\n",
    "    'midnightblue', 'firebrick', 'darkgreen', 'gold', 'purple', \n",
    "    'orange', 'cyan', 'magenta', 'lime', 'navy', \n",
    "    'teal', 'coral', 'olive', 'brown', 'maroon'\n",
    "]\n",
    "plt.rcParams['axes.prop_cycle'] = plt.cycler(color=custom_colors)"
   ]
  },
  {
   "cell_type": "markdown",
   "id": "8870e17e-5dff-4770-ad44-743442fbc78a",
   "metadata": {},
   "source": [
    "### Trades"
   ]
  },
  {
   "cell_type": "code",
   "execution_count": null,
   "id": "253d13eb-9b26-4869-96c8-bea68c644ba5",
   "metadata": {},
   "outputs": [],
   "source": [
    "\"\"\"\n",
    "Show trades data available\n",
    "\"\"\"\n",
    "\n",
    "SYMBOL = \"ethusd\"\n",
    "logger.info(SYMBOL)\n",
    "\n",
    "fps_trades = sorted(glob.glob(f\"/mnt/vol1/coinbase_trades_*_{SYMBOL}.parquet\"), reverse=True)\n",
    "print(\"TRADES\\n------\\n\")\n",
    "print('\\n'.join(fps_trades[:10]))\n",
    "print(\"...\")\n",
    "print('\\n'.join(fps_trades[-10:]))\n",
    "print()\n",
    "\n",
    "df_trades_files = pd.DataFrame({\n",
    "    pd.to_datetime(re.findall(r'\\d{8}', f)[0]): f\n",
    "    for f in fps_trades\n",
    "}.items(), columns=['date','file'])"
   ]
  },
  {
   "cell_type": "code",
   "execution_count": null,
   "id": "a9ccfe3b-ead4-4214-8d47-f53dd48f9aea",
   "metadata": {},
   "outputs": [],
   "source": [
    "\"\"\"\n",
    "Read in example week of data\n",
    "\"\"\"\n",
    "\n",
    "# [start_date, end_date]\n",
    "start_date = \"20240728\"\n",
    "end_date = \"20240803\"\n",
    "date_range = pd.date_range(start_date, end_date) # inclusive on both\n",
    "\n",
    "# read in files\n",
    "matched_files = df_trades_files[(\n",
    "    (df_trades_files['date'] >= pd.to_datetime(start_date))&\n",
    "    (df_trades_files['date'] <= pd.to_datetime(end_date))\n",
    ")]['file'].tolist()\n",
    "df_data = pd.concat([ # may be slow\n",
    "    pd.read_parquet(f)\n",
    "    for f in tqdm(sorted(matched_files), total=len(matched_files))\n",
    "]).sort_values(by=['timestamp','local_timestamp']).reset_index(drop=True)\n",
    "# note: timestamp sort does not guaranteed local timestamp sorted (delay of information)\n",
    "# for historical analysis: use timestamp (real time of trade)\n",
    "# for trading: use local_timestamp (real time we got it)\n",
    "logger.info(f\"Read in shape: {df_data.shape}\")\n",
    "\n",
    "# Derived columns\n",
    "logger.info(\"Adding additional info\")\n",
    "# Floor down to nearest hour\n",
    "logger.info(\"Making versions of [timestamp] rounded down to 1m, 5m, 15m, 30m, 1h\")\n",
    "intervals = ['1min', '5min', '15min', '30min']\n",
    "for interval in intervals:\n",
    "    df_data['timestamp_{}'.format(\n",
    "        interval.replace(\"min\", \"m\")\n",
    "    )] = df_data[\"timestamp\"].dt.floor(interval)\n",
    "df_data['timestamp_1h'] = df_data['timestamp'].apply(lambda ts: ts.replace(minute=0, second=0, microsecond=0))\n",
    "\n",
    "print(df_data.dtypes)\n",
    "df_data.head()"
   ]
  },
  {
   "cell_type": "code",
   "execution_count": null,
   "id": "d9611390-22e1-46c9-bc4f-883178f3f014",
   "metadata": {},
   "outputs": [],
   "source": [
    "# unique index\n",
    "assert df_data[['timestamp','id']].duplicated().sum() == 0"
   ]
  },
  {
   "cell_type": "code",
   "execution_count": null,
   "id": "ddf795c9-7a03-4034-b2ee-c5dd02f44b1b",
   "metadata": {},
   "outputs": [],
   "source": [
    "# check frequencies created correctly\n",
    "df_data.sample(3, random_state=123).T"
   ]
  },
  {
   "cell_type": "code",
   "execution_count": null,
   "id": "225bb685-53c5-4712-9cbd-ec37e9b69acf",
   "metadata": {},
   "outputs": [],
   "source": [
    "\"\"\"\n",
    "Nb. (buys, sells) at [1m, 15m, 1h]\n",
    "\"\"\"\n",
    "\n",
    "f, ax = plt.subplots(figsize=(FIGSIZE[0], 7), nrows=2, sharex=True)\n",
    "\n",
    "# buys\n",
    "plt.axes(ax[0])\n",
    "for freq in ['1m','5m','15m','30m','1h']:\n",
    "    df_plt = (\n",
    "        df_data.groupby(['timestamp_{}'.format(freq),'side'])['id'].nunique().reset_index()\n",
    "        .pivot(index='timestamp_{}'.format(freq), columns='side', values='id')\n",
    "        .sort_index()\n",
    "    )\n",
    "    df_plt['buy'].plot(ax=ax[0], label=freq)\n",
    "plt.grid(True)\n",
    "plt.ylabel(\"log(count)\")\n",
    "# plt.yscale(\"symlog\")\n",
    "plt.legend()\n",
    "\n",
    "# sells\n",
    "plt.axes(ax[1])\n",
    "for freq in ['1m','5m','15m','30m','1h']:\n",
    "    df_plt = (\n",
    "        df_data.groupby(['timestamp_{}'.format(freq),'side'])['id'].nunique().reset_index()\n",
    "        .pivot(index='timestamp_{}'.format(freq), columns='side', values='id')\n",
    "        .sort_index()\n",
    "    )\n",
    "    df_plt['sell'].plot(ax=ax[1], label=freq)\n",
    "plt.grid(True)\n",
    "plt.ylabel(\"log(count)\")\n",
    "# plt.yscale(\"symlog\")\n",
    "plt.legend()\n",
    "\n",
    "plt.tight_layout()"
   ]
  },
  {
   "cell_type": "code",
   "execution_count": null,
   "id": "ff08f5fe-1799-4859-9002-85532d9fb777",
   "metadata": {},
   "outputs": [],
   "source": [
    "# - clean up\n",
    "del df_data\n",
    "import gc\n",
    "gc.collect()"
   ]
  },
  {
   "cell_type": "markdown",
   "id": "0330d2ac-ef54-49c2-8734-ab158eee9385",
   "metadata": {},
   "source": [
    "## book_snapshot_5\n",
    "\n",
    "**Tracks the top 5 levels on either side of the spread, every time they change.**"
   ]
  },
  {
   "cell_type": "code",
   "execution_count": null,
   "id": "7fd6e3ab-fd28-4a6e-a2f7-a2cb8cabbf1d",
   "metadata": {},
   "outputs": [],
   "source": [
    "\"\"\"\n",
    "Show trades data available\n",
    "\"\"\"\n",
    "\n",
    "SYMBOL = \"ethusd\"\n",
    "logger.info(SYMBOL)\n",
    "\n",
    "fps_bs5 = sorted(glob.glob(f\"/mnt/vol1/coinbase_book_snapshot_5_*_{SYMBOL}.parquet\"), reverse=True)\n",
    "print(\"BS5\\n------\\n\")\n",
    "print('\\n'.join(fps_bs5[:10]))\n",
    "print(\"...\")\n",
    "print('\\n'.join(fps_bs5[-10:]))\n",
    "print()\n",
    "\n",
    "df_bs5_files = pd.DataFrame({\n",
    "    pd.to_datetime(re.findall(r'\\d{8}', f)[0]): f\n",
    "    for f in fps_bs5\n",
    "}.items(), columns=['date','file'])"
   ]
  },
  {
   "cell_type": "code",
   "execution_count": null,
   "id": "0d204cff-93f8-4b6f-abf1-e5b312c15a71",
   "metadata": {},
   "outputs": [],
   "source": [
    "\"\"\"\n",
    "Read in example DAY of data\n",
    ">> BOOK_SNAPSHOT_5: data is very large (12m rows each day) so only do 1 day.\n",
    "\"\"\"\n",
    "\n",
    "# [start_date, end_date]\n",
    "start_date = \"20240728\"\n",
    "end_date = \"20240728\"\n",
    "date_range = pd.date_range(start_date, end_date) # inclusive on both\n",
    "\n",
    "# read in files\n",
    "matched_files = df_bs5_files[(\n",
    "    (df_trades_files['date'] >= pd.to_datetime(start_date))&\n",
    "    (df_trades_files['date'] <= pd.to_datetime(end_date))\n",
    ")]['file'].tolist()\n",
    "df_data = pd.concat([ # may be slow\n",
    "    pd.read_parquet(f)\n",
    "    for f in tqdm(sorted(matched_files), total=len(matched_files))\n",
    "]).sort_values(by=['timestamp','local_timestamp']).reset_index(drop=True)\n",
    "df_data.columns = [\n",
    "    c.replace(\"[\",\"_\").replace(\"].\",\"_\")\n",
    "    for c in df_data.columns\n",
    "]\n",
    "logger.info(f\"Read in shape: {df_data.shape}\")\n",
    "\n",
    "# Derived columns\n",
    "logger.info(\"Adding additional info\")\n",
    "# Floor down to nearest hour\n",
    "logger.info(\"Making versions of [timestamp] rounded down to 1m, 5m, 15m, 30m, 1h\")\n",
    "intervals = ['1min', '5min', '15min', '30min']\n",
    "for interval in tqdm(intervals, leave=False):\n",
    "    df_data['timestamp_{}'.format(\n",
    "        interval.replace(\"min\", \"m\")\n",
    "    )] = df_data[\"timestamp\"].dt.floor(interval)\n",
    "df_data['timestamp_1h'] = df_data['timestamp'].apply(lambda ts: ts.replace(minute=0, second=0, microsecond=0))\n",
    "\n",
    "logger.info(\"Prepared data.\")\n",
    "\n",
    "print(df_data.dtypes)\n",
    "df_data.head()"
   ]
  },
  {
   "cell_type": "code",
   "execution_count": null,
   "id": "c5c780c7-3c59-44c9-bbb9-36f4be494f57",
   "metadata": {},
   "outputs": [],
   "source": [
    "\"\"\"\n",
    "Visualize order book levels at each price level, over time.\n",
    "(ask, bid) * (level=0, 1, 2, 3, 4)\n",
    "\"\"\"\n",
    "\n",
    "ts_col = \"timestamp\" # every time there is a change\n",
    "ob_cols = [c for c in df_data.columns if 'asks' in c or 'bids' in c]\n",
    "df_ob = df_data[[ts_col] + ob_cols]\n",
    "assert df_ob[ts_col].is_monotonic_increasing"
   ]
  },
  {
   "cell_type": "code",
   "execution_count": null,
   "id": "c7df6f95-dc6f-41b2-9639-fd5a196c4881",
   "metadata": {},
   "outputs": [],
   "source": [
    "plt.figure(figsize=(12, 5))\n",
    "total_rows = df_ob.shape[0]\n",
    "for rx, row in tqdm(df_ob.iterrows(), total=total_rows):\n",
    "    t = row[ts_col]\n",
    "    ask_prices = sorted([row[r] for r in ob_cols if 'asks' in r and 'price' in r])\n",
    "    ask_amounts = sorted([row[r] for r in ob_cols if 'asks' in r and 'amount' in r])\n",
    "    bid_prices = sorted([row[r] for r in ob_cols if 'bids' in r and 'price' in r])\n",
    "    bid_amounts = sorted([row[r] for r in ob_cols if 'bids' in r and 'amount' in r])\n",
    "    norm_sizes = np.interp(ask_amounts + bid_amounts, (0, 10000), (0, 1))\n",
    "    norm_sizes[norm_sizes>1] = 1\n",
    "    plt.scatter([t]*len(ask_prices + bid_prices), ask_prices + bid_prices, c=norm_sizes, cmap=\"viridis\", s=1)\n",
    "    if rx > 10000:\n",
    "        break"
   ]
  },
  {
   "cell_type": "code",
   "execution_count": null,
   "id": "9bd970e9-26d0-4474-97d4-39f76ae284cc",
   "metadata": {},
   "outputs": [],
   "source": []
  }
 ],
 "metadata": {
  "kernelspec": {
   "display_name": "charadrius",
   "language": "python",
   "name": "charadrius"
  },
  "language_info": {
   "codemirror_mode": {
    "name": "ipython",
    "version": 3
   },
   "file_extension": ".py",
   "mimetype": "text/x-python",
   "name": "python",
   "nbconvert_exporter": "python",
   "pygments_lexer": "ipython3",
   "version": "3.10.12"
  }
 },
 "nbformat": 4,
 "nbformat_minor": 5
}
