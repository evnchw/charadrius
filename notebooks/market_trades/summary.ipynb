{
 "cells": [
  {
   "cell_type": "markdown",
   "metadata": {},
   "source": [
    "## Market trades, summary statistics\n",
    "\n",
    "THis is a rough summary of market trades data."
   ]
  },
  {
   "cell_type": "code",
   "execution_count": 1,
   "metadata": {},
   "outputs": [
    {
     "data": {
      "text/html": [
       "<style type='text/css'>\n",
       ".datatable table.frame { margin-bottom: 0; }\n",
       ".datatable table.frame thead { border-bottom: none; }\n",
       ".datatable table.frame tr.coltypes td {  color: #FFFFFF;  line-height: 6px;  padding: 0 0.5em;}\n",
       ".datatable .bool    { background: #DDDD99; }\n",
       ".datatable .object  { background: #565656; }\n",
       ".datatable .int     { background: #5D9E5D; }\n",
       ".datatable .float   { background: #4040CC; }\n",
       ".datatable .str     { background: #CC4040; }\n",
       ".datatable .time    { background: #40CC40; }\n",
       ".datatable .row_index {  background: var(--jp-border-color3);  border-right: 1px solid var(--jp-border-color0);  color: var(--jp-ui-font-color3);  font-size: 9px;}\n",
       ".datatable .frame tbody td { text-align: left; }\n",
       ".datatable .frame tr.coltypes .row_index {  background: var(--jp-border-color0);}\n",
       ".datatable th:nth-child(2) { padding-left: 12px; }\n",
       ".datatable .hellipsis {  color: var(--jp-cell-editor-border-color);}\n",
       ".datatable .vellipsis {  background: var(--jp-layout-color0);  color: var(--jp-cell-editor-border-color);}\n",
       ".datatable .na {  color: var(--jp-cell-editor-border-color);  font-size: 80%;}\n",
       ".datatable .sp {  opacity: 0.25;}\n",
       ".datatable .footer { font-size: 9px; }\n",
       ".datatable .frame_dimensions {  background: var(--jp-border-color3);  border-top: 1px solid var(--jp-border-color0);  color: var(--jp-ui-font-color3);  display: inline-block;  opacity: 0.6;  padding: 1px 10px 1px 5px;}\n",
       "</style>\n"
      ],
      "text/plain": [
       "<IPython.core.display.HTML object>"
      ]
     },
     "metadata": {},
     "output_type": "display_data"
    }
   ],
   "source": [
    "from aspidoceleon.bigquery import BigQuery\n",
    "from aspidoceleon.dataframe import convert_timestamp_columns\n",
    "from charadrius.const import Const\n",
    "from loguru import logger\n",
    "import pandas as pd\n",
    "import datetime\n",
    "import re\n",
    "import os\n",
    "import glob\n",
    "constants = Const()\n",
    "bigquery = BigQuery()\n",
    "\n",
    "# workdir\n",
    "workdir = f\"{constants.PROJECT_WORKDIR}/market_trades\"\n",
    "os.makedirs(workdir, exist_ok=True)\n",
    "logger.info(\"workdir\")\n",
    "\n",
    "# This week, Sunday to today inclusive\n",
    "TODAY = datetime.datetime.now().strftime(constants.DATE_FMT_NODASH)\n",
    "WEEK_START = pd.to_datetime(datetime.datetime.now()).to_period(\"W-SAT\").start_time.strftime(constants.DATE_FMT_NODASH)\n",
    "logger.info(f\"Date range: {WEEK_START}, {TODAY}\")"
   ]
  },
  {
   "cell_type": "markdown",
   "metadata": {},
   "source": [
    "### Read in real-time data"
   ]
  },
  {
   "cell_type": "code",
   "execution_count": null,
   "metadata": {},
   "outputs": [],
   "source": [
    "\"\"\"\n",
    "Fetch market trades RT data\n",
    "\"\"\"\n",
    "fp_rt = f\"{workdir}/market_trades_{WEEK_START}_{TODAY}.parquet\"\n",
    "# could skip caching by removing file\n",
    "sql_rt = f\"\"\"\n",
    "select\n",
    "    *\n",
    "from `fastitocalon.coinbase.rt_coinbase_market_trades_*`\n",
    "where _table_suffix between '{WEEK_START}' and '{TODAY}'\n",
    "\"\"\"\n",
    "df_rt = bigquery.query_cache(sql=sql_rt, fp=fp_rt)\n",
    "df_rt = convert_timestamp_columns(df_rt)\n",
    "logger.info(f\"fetched shape {df_rt.shape}\")"
   ]
  },
  {
   "cell_type": "code",
   "execution_count": null,
   "metadata": {},
   "outputs": [],
   "source": [
    "\"\"\"\n",
    "quick summary\n",
    "\"\"\"\n",
    "print(df_rt.shape)\n",
    "print(df_rt['local_timestamp'].agg(['min','max']))\n",
    "print(df_rt.dtypes)\n",
    "df_rt.head()"
   ]
  },
  {
   "cell_type": "markdown",
   "metadata": {},
   "source": [
    "### Read in batch data"
   ]
  },
  {
   "cell_type": "code",
   "execution_count": null,
   "metadata": {},
   "outputs": [],
   "source": [
    "\"\"\"\n",
    "Read in batch data for given time period (all currencies)\n",
    "\n",
    "Convert to same format as live data:\n",
    "> remove exchange (redundant)\n",
    "> convert symbols: lower, remove dash\n",
    "\n",
    "and noting that the batch files are not snapshots, but the realtime data is (stream is too fast)\n",
    "\"\"\"\n",
    "df_batch = pd.concat([\n",
    "    pd.read_parquet(f) for f in glob.glob(\"/mnt/vol1/coinbase_trades*\")\n",
    "    if (\n",
    "        (pd.to_datetime(re.findall(r\"2[0-9]+\", f)[0]) >= pd.to_datetime(WEEK_START)) &\n",
    "        (pd.to_datetime(re.findall(r\"2[0-9]+\", f)[0]) <= pd.to_datetime(TODAY))\n",
    "    )\n",
    "]).drop(columns=['exchange','date']) # redundant\n",
    "df_batch['is_snapshot'] = False # no snapshots, actually all real data\n",
    "df_batch['symbol'] = df_batch['symbol'].apply(lambda x: x.replace(\"-\",\"\").lower())\n",
    "df_batch = df_batch[df_rt.columns]"
   ]
  },
  {
   "cell_type": "code",
   "execution_count": null,
   "metadata": {},
   "outputs": [],
   "source": [
    "\"\"\"\n",
    "quick summary\n",
    "\"\"\"\n",
    "print(df_batch.shape)\n",
    "print(df_batch['local_timestamp'].agg(['min','max']))\n",
    "print(df_batch.dtypes)\n",
    "df_batch.head()"
   ]
  },
  {
   "cell_type": "code",
   "execution_count": null,
   "metadata": {},
   "outputs": [],
   "source": []
  }
 ],
 "metadata": {
  "kernelspec": {
   "display_name": ".venv",
   "language": "python",
   "name": "python3"
  },
  "language_info": {
   "codemirror_mode": {
    "name": "ipython",
    "version": 3
   },
   "file_extension": ".py",
   "mimetype": "text/x-python",
   "name": "python",
   "nbconvert_exporter": "python",
   "pygments_lexer": "ipython3",
   "version": "3.10.12"
  }
 },
 "nbformat": 4,
 "nbformat_minor": 4
}
