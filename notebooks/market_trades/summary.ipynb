{
 "cells": [
  {
   "cell_type": "markdown",
   "metadata": {},
   "source": [
    "# Market trades - summary statistics"
   ]
  },
  {
   "cell_type": "code",
   "execution_count": 3,
   "metadata": {},
   "outputs": [
    {
     "name": "stderr",
     "output_type": "stream",
     "text": [
      "\u001b[32m2024-06-25 20:01:27.946\u001b[0m | \u001b[1mINFO    \u001b[0m | \u001b[36m__main__\u001b[0m:\u001b[36m<module>\u001b[0m:\u001b[36m12\u001b[0m - \u001b[1mworkdir\u001b[0m\n",
      "\u001b[32m2024-06-25 20:01:27.949\u001b[0m | \u001b[1mINFO    \u001b[0m | \u001b[36m__main__\u001b[0m:\u001b[36m<module>\u001b[0m:\u001b[36m17\u001b[0m - \u001b[1mDate range: 20240623, 20240625\u001b[0m\n"
     ]
    }
   ],
   "source": [
    "from aspidoceleon.bigquery import BigQuery\n",
    "from charadrius.const import Const\n",
    "from loguru import logger\n",
    "import pandas as pd\n",
    "import datetime\n",
    "import os\n",
    "constants = Const()\n",
    "bigquery = BigQuery()\n",
    "\n",
    "# workdir\n",
    "workdir = f\"{constants.PROJECT_WORKDIR}\"\n",
    "logger.info(\"workdir\")\n",
    "\n",
    "# This week, Sunday to today inclusive\n",
    "TODAY = datetime.datetime.now().strftime(constants.DATE_FMT_NODASH)\n",
    "WEEK_START = pd.to_datetime(datetime.datetime.now()).to_period(\"W-SAT\").start_time.strftime(constants.DATE_FMT_NODASH)\n",
    "logger.info(f\"Date range: {WEEK_START}, {TODAY}\")"
   ]
  },
  {
   "cell_type": "code",
   "execution_count": 4,
   "metadata": {},
   "outputs": [
    {
     "ename": "NameError",
     "evalue": "name 'logger' is not defined",
     "output_type": "error",
     "traceback": [
      "\u001b[0;31m---------------------------------------------------------------------------\u001b[0m",
      "\u001b[0;31mNameError\u001b[0m                                 Traceback (most recent call last)",
      "Cell \u001b[0;32mIn[4], line 11\u001b[0m\n\u001b[1;32m      4\u001b[0m fp_rt \u001b[38;5;241m=\u001b[39m \u001b[38;5;124mf\u001b[39m\u001b[38;5;124m\"\u001b[39m\u001b[38;5;132;01m{\u001b[39;00mworkdir\u001b[38;5;132;01m}\u001b[39;00m\u001b[38;5;124m/market_trades_\u001b[39m\u001b[38;5;132;01m{\u001b[39;00mWEEK_START\u001b[38;5;132;01m}\u001b[39;00m\u001b[38;5;124m_\u001b[39m\u001b[38;5;132;01m{\u001b[39;00mTODAY\u001b[38;5;132;01m}\u001b[39;00m\u001b[38;5;124m.parquet\u001b[39m\u001b[38;5;124m\"\u001b[39m\n\u001b[1;32m      5\u001b[0m sql_rt \u001b[38;5;241m=\u001b[39m \u001b[38;5;124mf\u001b[39m\u001b[38;5;124m\"\"\"\u001b[39m\n\u001b[1;32m      6\u001b[0m \u001b[38;5;124mselect\u001b[39m\n\u001b[1;32m      7\u001b[0m \u001b[38;5;124m    *\u001b[39m\n\u001b[1;32m      8\u001b[0m \u001b[38;5;124mfrom `fastitocalon.coinbase.rt_coinbase_market_trades_*`\u001b[39m\n\u001b[1;32m      9\u001b[0m \u001b[38;5;124mwhere _table_suffix between \u001b[39m\u001b[38;5;124m'\u001b[39m\u001b[38;5;132;01m{\u001b[39;00mWEEK_START\u001b[38;5;132;01m}\u001b[39;00m\u001b[38;5;124m'\u001b[39m\u001b[38;5;124m and \u001b[39m\u001b[38;5;124m'\u001b[39m\u001b[38;5;132;01m{\u001b[39;00mTODAY\u001b[38;5;132;01m}\u001b[39;00m\u001b[38;5;124m'\u001b[39m\n\u001b[1;32m     10\u001b[0m \u001b[38;5;124m\"\"\"\u001b[39m\n\u001b[0;32m---> 11\u001b[0m df_rt \u001b[38;5;241m=\u001b[39m \u001b[43mbigquery\u001b[49m\u001b[38;5;241;43m.\u001b[39;49m\u001b[43mquery_cache\u001b[49m\u001b[43m(\u001b[49m\u001b[43msql\u001b[49m\u001b[38;5;241;43m=\u001b[39;49m\u001b[43msql_rt\u001b[49m\u001b[43m,\u001b[49m\u001b[43m \u001b[49m\u001b[43mfp\u001b[49m\u001b[38;5;241;43m=\u001b[39;49m\u001b[43mfp_rt\u001b[49m\u001b[43m)\u001b[49m\n\u001b[1;32m     12\u001b[0m logger\u001b[38;5;241m.\u001b[39minfo(\u001b[38;5;124mf\u001b[39m\u001b[38;5;124m\"\u001b[39m\u001b[38;5;124mfetched shape \u001b[39m\u001b[38;5;132;01m{\u001b[39;00mdf_rt\u001b[38;5;241m.\u001b[39mshape\u001b[38;5;132;01m}\u001b[39;00m\u001b[38;5;124m\"\u001b[39m)\n",
      "File \u001b[0;32m~/jupyterlab/charadrius/.venv/lib/python3.10/site-packages/aspidoceleon/bigquery.py:131\u001b[0m, in \u001b[0;36mBigQuery.query_cache\u001b[0;34m(self, sql, fp)\u001b[0m\n\u001b[1;32m    119\u001b[0m \u001b[38;5;250m\u001b[39m\u001b[38;5;124;03m\"\"\"\u001b[39;00m\n\u001b[1;32m    120\u001b[0m \u001b[38;5;124;03mCall query(sql) and cache to fp; read from cache if not exists.\u001b[39;00m\n\u001b[1;32m    121\u001b[0m \n\u001b[0;32m   (...)\u001b[0m\n\u001b[1;32m    128\u001b[0m \u001b[38;5;124;03mpd.DataFrame\u001b[39;00m\n\u001b[1;32m    129\u001b[0m \u001b[38;5;124;03m\"\"\"\u001b[39;00m\n\u001b[1;32m    130\u001b[0m \u001b[38;5;28;01mif\u001b[39;00m \u001b[38;5;129;01mnot\u001b[39;00m os\u001b[38;5;241m.\u001b[39mpath\u001b[38;5;241m.\u001b[39mexists(fp):\n\u001b[0;32m--> 131\u001b[0m     \u001b[43mlogger\u001b[49m\u001b[38;5;241m.\u001b[39minfo(\u001b[38;5;124mf\u001b[39m\u001b[38;5;124m\"\u001b[39m\u001b[38;5;124mfetching -> \u001b[39m\u001b[38;5;132;01m{\u001b[39;00mfp\u001b[38;5;132;01m}\u001b[39;00m\u001b[38;5;124m\"\u001b[39m)\n\u001b[1;32m    132\u001b[0m     df \u001b[38;5;241m=\u001b[39m \u001b[38;5;28mself\u001b[39m\u001b[38;5;241m.\u001b[39mquery(sql)\n\u001b[1;32m    133\u001b[0m     df\u001b[38;5;241m.\u001b[39mto_parquet(fp)\n",
      "\u001b[0;31mNameError\u001b[0m: name 'logger' is not defined"
     ]
    }
   ],
   "source": [
    "\"\"\"\n",
    "Fetch market trades RT data\n",
    "\"\"\"\n",
    "fp_rt = f\"{workdir}/market_trades_{WEEK_START}_{TODAY}.parquet\"\n",
    "sql_rt = f\"\"\"\n",
    "select\n",
    "    *\n",
    "from `fastitocalon.coinbase.rt_coinbase_market_trades_*`\n",
    "where _table_suffix between '{WEEK_START}' and '{TODAY}'\n",
    "\"\"\"\n",
    "df_rt = bigquery.query_cache(sql=sql_rt, fp=fp_rt)\n",
    "logger.info(f\"fetched shape {df_rt.shape}\")"
   ]
  },
  {
   "cell_type": "code",
   "execution_count": null,
   "metadata": {},
   "outputs": [],
   "source": [
    "df_rt.head()"
   ]
  },
  {
   "cell_type": "code",
   "execution_count": null,
   "metadata": {},
   "outputs": [],
   "source": []
  },
  {
   "cell_type": "markdown",
   "metadata": {},
   "source": [
    "## Compare against TARDIS.DEV data (silver source)"
   ]
  },
  {
   "cell_type": "code",
   "execution_count": null,
   "metadata": {},
   "outputs": [],
   "source": []
  },
  {
   "cell_type": "markdown",
   "metadata": {},
   "source": []
  }
 ],
 "metadata": {
  "kernelspec": {
   "display_name": ".venv",
   "language": "python",
   "name": "python3"
  },
  "language_info": {
   "codemirror_mode": {
    "name": "ipython",
    "version": 3
   },
   "file_extension": ".py",
   "mimetype": "text/x-python",
   "name": "python",
   "nbconvert_exporter": "python",
   "pygments_lexer": "ipython3",
   "version": "3.10.12"
  }
 },
 "nbformat": 4,
 "nbformat_minor": 4
}
