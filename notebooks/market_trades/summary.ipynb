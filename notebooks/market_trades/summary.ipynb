{
 "cells": [
  {
   "cell_type": "markdown",
   "metadata": {},
   "source": [
    "# Market trades - summary statistics"
   ]
  },
  {
   "cell_type": "code",
   "execution_count": 5,
   "metadata": {},
   "outputs": [
    {
     "name": "stderr",
     "output_type": "stream",
     "text": [
      "\u001b[32m2024-06-25 20:16:36.926\u001b[0m | \u001b[1mINFO    \u001b[0m | \u001b[36m__main__\u001b[0m:\u001b[36m<module>\u001b[0m:\u001b[36m14\u001b[0m - \u001b[1mworkdir\u001b[0m\n",
      "\u001b[32m2024-06-25 20:16:36.928\u001b[0m | \u001b[1mINFO    \u001b[0m | \u001b[36m__main__\u001b[0m:\u001b[36m<module>\u001b[0m:\u001b[36m19\u001b[0m - \u001b[1mDate range: 20240623, 20240625\u001b[0m\n"
     ]
    }
   ],
   "source": [
    "from aspidoceleon.bigquery import BigQuery\n",
    "from aspidoceleon.time_utils import convert_epoch_seconds_to_timestamp\n",
    "from charadrius.const import Const\n",
    "from loguru import logger\n",
    "import pandas as pd\n",
    "import datetime\n",
    "import os\n",
    "constants = Const()\n",
    "bigquery = BigQuery()\n",
    "\n",
    "# workdir\n",
    "workdir = f\"{constants.PROJECT_WORKDIR}/market_trades\"\n",
    "os.makedirs(workdir, exist_ok=True)\n",
    "logger.info(\"workdir\")\n",
    "\n",
    "# This week, Sunday to today inclusive\n",
    "TODAY = datetime.datetime.now().strftime(constants.DATE_FMT_NODASH)\n",
    "WEEK_START = pd.to_datetime(datetime.datetime.now()).to_period(\"W-SAT\").start_time.strftime(constants.DATE_FMT_NODASH)\n",
    "logger.info(f\"Date range: {WEEK_START}, {TODAY}\")"
   ]
  },
  {
   "cell_type": "code",
   "execution_count": 6,
   "metadata": {},
   "outputs": [
    {
     "name": "stderr",
     "output_type": "stream",
     "text": [
      "\u001b[32m2024-06-25 20:16:40.201\u001b[0m | \u001b[1mINFO    \u001b[0m | \u001b[36maspidoceleon.bigquery\u001b[0m:\u001b[36mquery_cache\u001b[0m:\u001b[36m131\u001b[0m - \u001b[1mfetching -> /mnt/vol1/charadrius/market_trades/market_trades_20240623_20240625.parquet\u001b[0m\n",
      "\u001b[32m2024-06-25 20:16:41.122\u001b[0m | \u001b[1mINFO    \u001b[0m | \u001b[36maspidoceleon.bigquery\u001b[0m:\u001b[36mestimate_query_cost\u001b[0m:\u001b[36m89\u001b[0m - \u001b[1mEstimated query cost: $0.00 (0.1 GB)\u001b[0m\n"
     ]
    }
   ],
   "source": [
    "\"\"\"\n",
    "Fetch market trades RT data\n",
    "\"\"\"\n",
    "fp_rt = f\"{workdir}/market_trades_{WEEK_START}_{TODAY}.parquet\"\n",
    "sql_rt = f\"\"\"\n",
    "select\n",
    "    *\n",
    "from `fastitocalon.coinbase.rt_coinbase_market_trades_*`\n",
    "where _table_suffix between '{WEEK_START}' and '{TODAY}'\n",
    "\"\"\"\n",
    "df_rt = bigquery.query_cache(sql=sql_rt, fp=fp_rt)\n",
    "df_rt = convert_epoch_seconds_to_timestamp(df_rt)\n",
    "logger.info(f\"fetched shape {df_rt.shape}\")"
   ]
  },
  {
   "cell_type": "code",
   "execution_count": null,
   "metadata": {},
   "outputs": [],
   "source": [
    "df_rt.head()"
   ]
  },
  {
   "cell_type": "markdown",
   "metadata": {},
   "source": [
    "## Compare against TARDIS.DEV data (silver source)"
   ]
  },
  {
   "cell_type": "code",
   "execution_count": null,
   "metadata": {},
   "outputs": [],
   "source": []
  },
  {
   "cell_type": "markdown",
   "metadata": {},
   "source": []
  }
 ],
 "metadata": {
  "kernelspec": {
   "display_name": ".venv",
   "language": "python",
   "name": "python3"
  },
  "language_info": {
   "codemirror_mode": {
    "name": "ipython",
    "version": 3
   },
   "file_extension": ".py",
   "mimetype": "text/x-python",
   "name": "python",
   "nbconvert_exporter": "python",
   "pygments_lexer": "ipython3",
   "version": "3.10.12"
  }
 },
 "nbformat": 4,
 "nbformat_minor": 4
}
