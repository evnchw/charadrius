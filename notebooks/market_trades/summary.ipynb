{
 "cells": [
  {
   "cell_type": "markdown",
   "metadata": {},
   "source": [
    "# Market trades - summary statistics"
   ]
  },
  {
   "cell_type": "code",
   "execution_count": null,
   "metadata": {},
   "outputs": [],
   "source": [
    "from aspidoceleon.bigquery import BigQuery\n",
    "from charadrius.const import Const\n",
    "from loguru import logger\n",
    "import pandas as pd\n",
    "import datetime\n",
    "import os\n",
    "constants = Const()\n",
    "bigquery = BigQuery()\n",
    "\n",
    "# workdir\n",
    "workdir = f\"{constants.PROJECT_WORKDIR}\"\n",
    "logger.info(\"workdir\")\n",
    "\n",
    "# This week, Sunday to today inclusive\n",
    "TODAY = datetime.datetime.now().strftime(constants.DATE_FMT_NODASH)\n",
    "WEEK_START = pd.to_datetime(datetime.datetime.now()).to_period(\"W-SAT\").start_time.strftime(constants.DATE_FMT_NODASH)\n",
    "logger.info(f\"Date range: {WEEK_START}, {TODAY}\")"
   ]
  },
  {
   "cell_type": "code",
   "execution_count": null,
   "metadata": {},
   "outputs": [],
   "source": [
    "\"\"\"\n",
    "Fetch market trades RT data\n",
    "\"\"\"\n",
    "fp_rt = f\"{workdir}/market_trades_{WEEK_START}_{TODAY}.parquet\"\n",
    "sql_rt = f\"\"\"\n",
    "select\n",
    "    *\n",
    "from `fastitocalon.coinbase.rt_coinbase_market_trades_*`\n",
    "where _table_suffix between '{WEEK_START}' and '{TODAY}'\n",
    "\"\"\"\n",
    "df_rt = bigquery.query_cache(sql=sql_rt, fp=fp_rt)\n",
    "logger.info(f\"fetched shape {df_rt.shape}\")"
   ]
  },
  {
   "cell_type": "code",
   "execution_count": null,
   "metadata": {},
   "outputs": [],
   "source": [
    "df_rt.head()"
   ]
  },
  {
   "cell_type": "code",
   "execution_count": null,
   "metadata": {},
   "outputs": [],
   "source": []
  },
  {
   "cell_type": "markdown",
   "metadata": {},
   "source": [
    "## Compare against TARDIS.DEV data (silver source)"
   ]
  },
  {
   "cell_type": "code",
   "execution_count": null,
   "metadata": {},
   "outputs": [],
   "source": []
  },
  {
   "cell_type": "markdown",
   "metadata": {},
   "source": []
  }
 ],
 "metadata": {
  "kernelspec": {
   "display_name": ".venv",
   "language": "python",
   "name": "python3"
  },
  "language_info": {
   "codemirror_mode": {
    "name": "ipython",
    "version": 3
   },
   "file_extension": ".py",
   "mimetype": "text/x-python",
   "name": "python",
   "nbconvert_exporter": "python",
   "pygments_lexer": "ipython3",
   "version": "3.10.12"
  }
 },
 "nbformat": 4,
 "nbformat_minor": 4
}
